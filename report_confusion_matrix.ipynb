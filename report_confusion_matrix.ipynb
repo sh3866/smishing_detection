{
 "cells": [
  {
   "cell_type": "code",
   "execution_count": 3,
   "metadata": {},
   "outputs": [],
   "source": [
    "import pandas as pd\n",
    "from sklearn.metrics import confusion_matrix"
   ]
  },
  {
   "cell_type": "code",
   "execution_count": 4,
   "metadata": {},
   "outputs": [],
   "source": [
    "def print_confusion_matrix(path):\n",
    "    df = pd.read_csv(path)\n",
    "    # Get the confusion matrix\n",
    "    y_true = df['label']\n",
    "    y_pred = df['pred']\n",
    "    cm = confusion_matrix(y_true, y_pred, labels=['ham', 'spam', 'smishing'])\n",
    "    print(cm)"
   ]
  },
  {
   "cell_type": "code",
   "execution_count": 6,
   "metadata": {},
   "outputs": [
    {
     "name": "stdout",
     "output_type": "stream",
     "text": [
      "[[476   6   3]\n",
      " [  2  33  14]\n",
      " [  1  26  37]]\n"
     ]
    }
   ],
   "source": [
    "print_confusion_matrix(\"org_results/phishing/output_seed_42/fewshot_32_result.csv\")"
   ]
  },
  {
   "cell_type": "code",
   "execution_count": 5,
   "metadata": {},
   "outputs": [
    {
     "name": "stdout",
     "output_type": "stream",
     "text": [
      "[[484   1   0]\n",
      " [  3  28  18]\n",
      " [  0  20  44]]\n"
     ]
    }
   ],
   "source": [
    "print_confusion_matrix(\"results/phishing/fewshot_32_seed_42_result.csv\")"
   ]
  },
  {
   "cell_type": "code",
   "execution_count": 8,
   "metadata": {},
   "outputs": [
    {
     "name": "stdout",
     "output_type": "stream",
     "text": [
      "[[480   2   3]\n",
      " [  0  43   6]\n",
      " [  0  23  41]]\n"
     ]
    }
   ],
   "source": [
    "print_confusion_matrix(\"org_results/phishing/output_seed_2023/fewshot_32_seed_2023_result.csv\")"
   ]
  },
  {
   "cell_type": "code",
   "execution_count": 7,
   "metadata": {},
   "outputs": [
    {
     "name": "stdout",
     "output_type": "stream",
     "text": [
      "[[481   4   0]\n",
      " [  4  45   0]\n",
      " [  0  63   1]]\n"
     ]
    }
   ],
   "source": [
    "print_confusion_matrix(\"results/phishing/fewshot_32_seed_2023_result.csv\")"
   ]
  },
  {
   "cell_type": "code",
   "execution_count": null,
   "metadata": {},
   "outputs": [],
   "source": []
  }
 ],
 "metadata": {
  "kernelspec": {
   "display_name": "lm-eval",
   "language": "python",
   "name": "python3"
  },
  "language_info": {
   "codemirror_mode": {
    "name": "ipython",
    "version": 3
   },
   "file_extension": ".py",
   "mimetype": "text/x-python",
   "name": "python",
   "nbconvert_exporter": "python",
   "pygments_lexer": "ipython3",
   "version": "3.9.13"
  }
 },
 "nbformat": 4,
 "nbformat_minor": 2
}
