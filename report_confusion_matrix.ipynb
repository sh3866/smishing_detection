{
 "cells": [
  {
   "cell_type": "code",
   "execution_count": 1,
   "metadata": {},
   "outputs": [],
   "source": [
    "import pandas as pd\n",
    "from sklearn.metrics import confusion_matrix"
   ]
  },
  {
   "cell_type": "code",
   "execution_count": 12,
   "metadata": {},
   "outputs": [],
   "source": [
    "def print_confusion_matrix(path):\n",
    "    df = pd.read_csv(path)\n",
    "    # Get the confusion matrix\n",
    "    y_true = df['label']\n",
    "    y_pred = df['pred']\n",
    "    cm = confusion_matrix(y_true, y_pred, labels=['ham', 'spam', 'smishing'])\n",
    "    print(cm)"
   ]
  },
  {
   "cell_type": "code",
   "execution_count": 4,
   "metadata": {},
   "outputs": [
    {
     "name": "stdout",
     "output_type": "stream",
     "text": [
      "[[476   6   3]\n",
      " [  2  33  14]\n",
      " [  1  26  37]]\n"
     ]
    }
   ],
   "source": [
    "print_confusion_matrix(\"org_results/phishing/output_seed_42/fewshot_32_result.csv\")"
   ]
  },
  {
   "cell_type": "code",
   "execution_count": 3,
   "metadata": {},
   "outputs": [
    {
     "name": "stdout",
     "output_type": "stream",
     "text": [
      "[[482   2   1]\n",
      " [  1  21  27]\n",
      " [  0   8  56]]\n"
     ]
    }
   ],
   "source": [
    "print_confusion_matrix(\"results/phishing/fewshot_32_seed_42_result.csv\")"
   ]
  },
  {
   "cell_type": "code",
   "execution_count": 8,
   "metadata": {},
   "outputs": [
    {
     "name": "stdout",
     "output_type": "stream",
     "text": [
      "[[480   2   3]\n",
      " [  0  43   6]\n",
      " [  0  23  41]]\n"
     ]
    }
   ],
   "source": [
    "print_confusion_matrix(\"org_results/phishing/output_seed_2023/fewshot_32_seed_2023_result.csv\")"
   ]
  },
  {
   "cell_type": "code",
   "execution_count": 7,
   "metadata": {},
   "outputs": [
    {
     "name": "stdout",
     "output_type": "stream",
     "text": [
      "[[481   4   0]\n",
      " [  4  45   0]\n",
      " [  0  63   1]]\n"
     ]
    }
   ],
   "source": [
    "print_confusion_matrix(\"results/phishing/fewshot_32_seed_2023_result.csv\")"
   ]
  },
  {
   "cell_type": "code",
   "execution_count": 5,
   "metadata": {},
   "outputs": [
    {
     "name": "stdout",
     "output_type": "stream",
     "text": [
      "[[483   5   0]\n",
      " [  0  49   0]\n",
      " [  0  31  30]]\n"
     ]
    }
   ],
   "source": [
    "print_confusion_matrix(\"results/phishing/fewshot_32_seed_42_imb_result.csv\")"
   ]
  },
  {
   "cell_type": "code",
   "execution_count": 13,
   "metadata": {},
   "outputs": [
    {
     "name": "stdout",
     "output_type": "stream",
     "text": [
      "[[473  11   1]\n",
      " [  0  47   2]\n",
      " [  0  30  34]]\n"
     ]
    }
   ],
   "source": [
    "print_confusion_matrix(\"results/phishing/no_resample/fewshot_32_seed_42_imb_result.csv\")"
   ]
  },
  {
   "cell_type": "code",
   "execution_count": 7,
   "metadata": {},
   "outputs": [],
   "source": [
    "import pandas as pd"
   ]
  },
  {
   "cell_type": "code",
   "execution_count": 8,
   "metadata": {},
   "outputs": [],
   "source": [
    "data_test = pd.read_csv(\"data/seed_42/data_test.csv\")"
   ]
  },
  {
   "cell_type": "code",
   "execution_count": 9,
   "metadata": {},
   "outputs": [],
   "source": [
    "result_data = pd.read_csv(\"results/phishing/no_resample/fewshot_32_seed_42_imb_result.csv\")"
   ]
  },
  {
   "cell_type": "code",
   "execution_count": 11,
   "metadata": {},
   "outputs": [
    {
     "name": "stdout",
     "output_type": "stream",
     "text": [
      "0\n",
      "8\n",
      "28\n",
      "32\n",
      "41\n",
      "48\n",
      "75\n",
      "82\n",
      "102\n",
      "123\n",
      "157\n",
      "178\n",
      "179\n",
      "181\n",
      "188\n",
      "218\n",
      "235\n",
      "244\n",
      "245\n",
      "263\n",
      "274\n",
      "283\n",
      "313\n",
      "326\n",
      "337\n",
      "350\n",
      "355\n",
      "363\n",
      "388\n",
      "399\n",
      "422\n",
      "446\n",
      "454\n",
      "463\n",
      "482\n",
      "489\n",
      "491\n",
      "517\n",
      "553\n",
      "564\n",
      "569\n",
      "571\n",
      "573\n",
      "586\n"
     ]
    }
   ],
   "source": [
    "for idx in range(len(result_data)):\n",
    "    arr = result_data.iloc[idx]\n",
    "    if arr[0] != arr[1]:\n",
    "        print(idx)\n",
    "        # print(data_test[\"TEXT\"].iloc[idx])"
   ]
  },
  {
   "cell_type": "code",
   "execution_count": null,
   "metadata": {},
   "outputs": [],
   "source": []
  }
 ],
 "metadata": {
  "kernelspec": {
   "display_name": "lm-eval",
   "language": "python",
   "name": "python3"
  },
  "language_info": {
   "codemirror_mode": {
    "name": "ipython",
    "version": 3
   },
   "file_extension": ".py",
   "mimetype": "text/x-python",
   "name": "python",
   "nbconvert_exporter": "python",
   "pygments_lexer": "ipython3",
   "version": "3.9.13"
  }
 },
 "nbformat": 4,
 "nbformat_minor": 2
}
